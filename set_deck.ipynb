{
 "cells": [
  {
   "cell_type": "code",
   "execution_count": 1,
   "metadata": {
    "collapsed": true
   },
   "outputs": [],
   "source": [
    "import random\n",
    "import numpy as np"
   ]
  },
  {
   "cell_type": "code",
   "execution_count": null,
   "metadata": {
    "collapsed": true
   },
   "outputs": [],
   "source": [
    "# Set probabilities: https://en.wikipedia.org/wiki/Set_(game)\n",
    "## Other set resources\n",
    "# https://web.archive.org/web/20130605073741/http://www.math.rutgers.edu/~maclagan/papers/set.pdf\n",
    "# https://henrikwarne.com/2011/09/30/set-probabilities-revisited/"
   ]
  },
  {
   "cell_type": "code",
   "execution_count": 5,
   "metadata": {
    "collapsed": true
   },
   "outputs": [],
   "source": [
    "class set_card:\n",
    "    def __init__(self, symbol, shade, color, number):\n",
    "        self.symbol = symbol\n",
    "        self.shade = shade\n",
    "        self.color = color\n",
    "        self.number = str(number)\n",
    "        \n",
    "    def __eq__(self,other):\n",
    "        return self.__dict__ == other.__dict__"
   ]
  },
  {
   "cell_type": "code",
   "execution_count": 130,
   "metadata": {
    "collapsed": true
   },
   "outputs": [],
   "source": [
    "# Deal cards\n",
    "def init_deal(deck,cards = 12):\n",
    "    deal = []\n",
    "    card = None\n",
    "    for i in range(cards):\n",
    "        skip = 0\n",
    "        if deal == []:\n",
    "            deal.append(deck[np.random.randint(0,81)])\n",
    "            continue\n",
    "        while skip == 0:\n",
    "            card = deck[np.random.randint(0,81)]\n",
    "            for j in deal:\n",
    "                if j == card:\n",
    "                    skip = -1\n",
    "            skip += 1\n",
    "        deal.append(card)\n",
    "    return deal"
   ]
  },
  {
   "cell_type": "code",
   "execution_count": 137,
   "metadata": {
    "collapsed": true
   },
   "outputs": [],
   "source": [
    "def set_find(deal):\n",
    "    global example_fail\n",
    "    global example_success\n",
    "    global test\n",
    "    for ind1,i in enumerate(deal):\n",
    "        for ind2,j in enumerate(deal):\n",
    "            if deal[ind2] != deal[ind1]:\n",
    "                for ind3,k in enumerate(deal):\n",
    "                    if deal[ind3] != deal[ind2] and deal[ind3] != deal[ind1]:\n",
    "# A match is formed either if attributes are all different or all the same\n",
    "                        matches = 0\n",
    "                        for l in vars(deal[ind1]).keys():\n",
    "                            if ((getattr(deal[ind1],l) == getattr(deal[ind2],l)) and (getattr(deal[ind1],l) == getattr(deal[ind3],l)) and getattr(deal[ind2],l) == getattr(deal[ind3],l)) or ((getattr(deal[ind1],l) != getattr(deal[ind2],l)) and (getattr(deal[ind1],l) != getattr(deal[ind3],l)) and (getattr(deal[ind2],l) != getattr(deal[ind3],l))):\n",
    "                                matches += 1\n",
    "                            if matches == 4:\n",
    "                                if example_success == 0:\n",
    "                                    print 'This is an example of a set (to show this darn thing works)'\n",
    "                                    for ind4,m in enumerate(range(0,len(deal))):\n",
    "                                        if deal[ind4] == deal[ind1] or deal[ind4] == deal[ind2] or deal[ind4] == deal[ind3]:\n",
    "                                            print 'Homeslice in the set:'\n",
    "                                        print deal[ind4].symbol , ' ' , deal[ind4].shade , ' ' , deal[ind4].color , ' ' , deal[ind4].number\n",
    "                                    example_success += 1\n",
    "                                return [1,1]\n",
    "    if example_fail == 0:\n",
    "        print 'There is no set given the following deal:'\n",
    "        for ind4,m in enumerate(range(0,len(deal))): \n",
    "            print deal[ind4].symbol , ' ' , deal[ind4].shade , ' ' , deal[ind4].color , ' ' , deal[ind4].number\n",
    "            test.append(deal[ind4])\n",
    "            example_fail += 1\n",
    "    return [1,0]                 "
   ]
  },
  {
   "cell_type": "code",
   "execution_count": 9,
   "metadata": {
    "collapsed": true
   },
   "outputs": [],
   "source": [
    "def count_freq(n,cards = 12):\n",
    "# 'Example' referenced in set_find and prints the first deal where a set does not occur\n",
    "    global example_fail\n",
    "    global example_success\n",
    "    global test\n",
    "    test = []\n",
    "    example_fail = 0\n",
    "    example_success = 0\n",
    "    count = [0,0]\n",
    "    symbols = ['diamond','oval','tilde']\n",
    "    shades = ['empty','solid','hatch']\n",
    "    colors = ['red','green','purple']\n",
    "    deck = [set_card(symbol, shade, color, number) for symbol in symbols for shade in shades for color in colors for number in range(1,4)]    \n",
    "    for i in range(n):\n",
    "        deal = init_deal(deck, cards = cards)\n",
    "        count = [x + y for x, y in zip(count, set_find(deal))]\n",
    "    return count,str(cards)"
   ]
  },
  {
   "cell_type": "code",
   "execution_count": 143,
   "metadata": {},
   "outputs": [
    {
     "name": "stdout",
     "output_type": "stream",
     "text": [
      "This is an example of a set (to show this darn thing works)\n",
      "oval   hatch   red   3\n",
      "tilde   hatch   green   3\n",
      "Homeslice in the set:\n",
      "oval   empty   purple   1\n",
      "Homeslice in the set:\n",
      "oval   empty   purple   2\n",
      "tilde   empty   red   2\n",
      "oval   empty   green   1\n",
      "Homeslice in the set:\n",
      "oval   empty   purple   3\n",
      "tilde   solid   red   1\n",
      "tilde   hatch   red   2\n",
      "tilde   hatch   green   1\n",
      "diamond   empty   purple   3\n",
      "oval   hatch   green   3\n",
      "There is no set given the following deal:\n",
      "oval   hatch   green   3\n",
      "oval   hatch   purple   3\n",
      "diamond   solid   green   1\n",
      "tilde   solid   green   2\n",
      "oval   solid   red   2\n",
      "diamond   hatch   purple   1\n",
      "tilde   hatch   red   3\n",
      "oval   hatch   red   1\n",
      "diamond   hatch   green   1\n",
      "tilde   solid   red   1\n",
      "diamond   solid   red   2\n",
      "oval   solid   red   1\n"
     ]
    }
   ],
   "source": [
    "results = count_freq(100000,cards = 12)"
   ]
  },
  {
   "cell_type": "code",
   "execution_count": 142,
   "metadata": {},
   "outputs": [
    {
     "name": "stdout",
     "output_type": "stream",
     "text": [
      "([100000, 100000], '18')\n"
     ]
    }
   ],
   "source": [
    "print results"
   ]
  },
  {
   "cell_type": "code",
   "execution_count": 144,
   "metadata": {},
   "outputs": [
    {
     "name": "stdout",
     "output_type": "stream",
     "text": [
      "29 :1 odds\n"
     ]
    }
   ],
   "source": [
    "# Print odds\n",
    "print results[0][1]/(results[0][0]-results[0][1]), ':1 odds'"
   ]
  },
  {
   "cell_type": "code",
   "execution_count": 10,
   "metadata": {
    "collapsed": true
   },
   "outputs": [],
   "source": [
    "## In the case that set_find identifies a match, verify that it is right\n",
    "def output_test(test):\n",
    "    matches = 0\n",
    "    example = 0\n",
    "    for ind1,i in enumerate(test):\n",
    "        for ind2,j in enumerate(test):\n",
    "            if test[ind2] is not test[ind1]:\n",
    "                for ind3,k in enumerate(test):\n",
    "                    if test[ind3] is not test[ind2] and test[ind3] is not test[ind1]:\n",
    "                        matches = 0\n",
    "                        for l in vars(test[ind1]).keys():\n",
    "                            if ((getattr(test[ind1],l) == getattr(test[ind2],l)) and (getattr(test[ind1],l) == getattr(test[ind3],l)) and getattr(test[ind2],l) == getattr(test[ind3],l)) or ((getattr(test[ind1],l) != getattr(test[ind2],l)) and (getattr(test[ind1],l) != getattr(test[ind3],l)) and (getattr(test[ind2],l) != getattr(test[ind3],l))):\n",
    "                                matches += 1\n",
    "                            if matches == 4:\n",
    "                                print 'Homeslice, a match exists. One example is:'\n",
    "                                print test[ind1].symbol , ' ' , test[ind1].shade , ' ' , test[ind1].color , ' ' , test[ind1].number\n",
    "                                print test[ind2].symbol , ' ' , test[ind2].shade , ' ' , test[ind2].color , ' ' , test[ind2].number\n",
    "                                print test[ind3].symbol , ' ' , test[ind3].shade , ' ' , test[ind3].color , ' ' , test[ind3].number\n",
    "                                return 'oops'\n",
    "    return 'Yup, no match indeed exists for at least one iteration'"
   ]
  },
  {
   "cell_type": "code",
   "execution_count": 106,
   "metadata": {},
   "outputs": [
    {
     "data": {
      "text/plain": [
       "'Yup, no match indeed exists for at least one iteration'"
      ]
     },
     "execution_count": 106,
     "metadata": {},
     "output_type": "execute_result"
    }
   ],
   "source": [
    "output_test(test)"
   ]
  }
 ],
 "metadata": {
  "kernelspec": {
   "display_name": "Python 2",
   "language": "python",
   "name": "python2"
  },
  "language_info": {
   "codemirror_mode": {
    "name": "ipython",
    "version": 2
   },
   "file_extension": ".py",
   "mimetype": "text/x-python",
   "name": "python",
   "nbconvert_exporter": "python",
   "pygments_lexer": "ipython2",
   "version": "2.7.13"
  }
 },
 "nbformat": 4,
 "nbformat_minor": 2
}
